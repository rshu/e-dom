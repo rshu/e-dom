{
 "cells": [
  {
   "cell_type": "code",
   "execution_count": 1,
   "metadata": {},
   "outputs": [],
   "source": [
    "#!/usr/bin/env python\n",
    "# -*- coding: utf-8 -*-\n",
    "# Copyright (C) 2019, Jianfeng Chen <jchen37@ncsu.edu>"
   ]
  },
  {
   "cell_type": "code",
   "execution_count": 2,
   "metadata": {},
   "outputs": [],
   "source": [
    "import os\n",
    "import sys\n",
    "import numpy as np\n",
    "import pandas as pd\n",
    "\n",
    "cwd = os.getcwd()\n",
    "root = cwd[:os.getcwd().rfind('e-dom/') + len('e-dom/') - 1]\n",
    "sys.path.append(f'{root}/src')\n",
    "from model import ML, hp"
   ]
  },
  {
   "cell_type": "code",
   "execution_count": 3,
   "metadata": {},
   "outputs": [],
   "source": [
    "def read_txt(model, alg):\n",
    "    metrics_for_all_repeats = list()\n",
    "    records = list()\n",
    "    with open(f'{root}/results/{model}_{alg}.txt', 'r') as infile:\n",
    "        for line in infile:\n",
    "            if line.startswith('## END'):\n",
    "                metrics = pd.DataFrame(\n",
    "                    records, columns=['rec', 'fpr', 'g_measure'])\n",
    "                metrics.iloc[:, 1] = 1 - metrics.iloc[:, 1]  # fo 1-(1-fpr)\n",
    "                metrics_for_all_repeats.append(metrics)\n",
    "                records.clear()\n",
    "                continue\n",
    "            if not line.startswith('V'):\n",
    "                continue\n",
    "            line = line[2:-1]\n",
    "            record = np.fromstring(line, dtype=float, sep=' ')\n",
    "            records.append(record)\n",
    "\n",
    "    return metrics_for_all_repeats"
   ]
  },
  {
   "cell_type": "code",
   "execution_count": 4,
   "metadata": {},
   "outputs": [],
   "source": [
    "metrics_for_all_repeats = read_txt('ambari', 'random100')\n",
    "metrics = metrics_for_all_repeats[0]"
   ]
  },
  {
   "cell_type": "code",
   "execution_count": 5,
   "metadata": {},
   "outputs": [
    {
     "data": {
      "text/html": [
       "<div>\n",
       "<style scoped>\n",
       "    .dataframe tbody tr th:only-of-type {\n",
       "        vertical-align: middle;\n",
       "    }\n",
       "\n",
       "    .dataframe tbody tr th {\n",
       "        vertical-align: top;\n",
       "    }\n",
       "\n",
       "    .dataframe thead th {\n",
       "        text-align: right;\n",
       "    }\n",
       "</style>\n",
       "<table border=\"1\" class=\"dataframe\">\n",
       "  <thead>\n",
       "    <tr style=\"text-align: right;\">\n",
       "      <th></th>\n",
       "      <th>rec</th>\n",
       "      <th>fpr</th>\n",
       "      <th>g_measure</th>\n",
       "    </tr>\n",
       "  </thead>\n",
       "  <tbody>\n",
       "    <tr>\n",
       "      <th>0</th>\n",
       "      <td>0.174</td>\n",
       "      <td>0.006</td>\n",
       "      <td>0.296</td>\n",
       "    </tr>\n",
       "    <tr>\n",
       "      <th>1</th>\n",
       "      <td>0.056</td>\n",
       "      <td>0.005</td>\n",
       "      <td>0.105</td>\n",
       "    </tr>\n",
       "    <tr>\n",
       "      <th>2</th>\n",
       "      <td>0.051</td>\n",
       "      <td>0.000</td>\n",
       "      <td>0.098</td>\n",
       "    </tr>\n",
       "  </tbody>\n",
       "</table>\n",
       "</div>"
      ],
      "text/plain": [
       "     rec    fpr  g_measure\n",
       "0  0.174  0.006      0.296\n",
       "1  0.056  0.005      0.105\n",
       "2  0.051  0.000      0.098"
      ]
     },
     "execution_count": 5,
     "metadata": {},
     "output_type": "execute_result"
    }
   ],
   "source": [
    "metrics"
   ]
  },
  {
   "cell_type": "code",
   "execution_count": 6,
   "metadata": {},
   "outputs": [],
   "source": [
    "import matplotlib.pyplot as plt"
   ]
  },
  {
   "cell_type": "code",
   "execution_count": 7,
   "metadata": {},
   "outputs": [
    {
     "data": {
      "text/plain": [
       "Text(0,0.5,'fpr')"
      ]
     },
     "execution_count": 7,
     "metadata": {},
     "output_type": "execute_result"
    },
    {
     "data": {
      "image/png": "[encoded data removed]",
      "text/plain": [
       "<matplotlib.figure.Figure at 0x10e78ac88>"
      ]
     },
     "metadata": {
      "needs_background": "light"
     },
     "output_type": "display_data"
    }
   ],
   "source": [
    "plt.plot(metrics.rec, metrics.fpr, 'ro')\n",
    "plt.xlabel('rec')\n",
    "plt.ylabel('fpr')"
   ]
  },
  {
   "cell_type": "code",
   "execution_count": null,
   "metadata": {},
   "outputs": [],
   "source": []
  }
 ],
 "metadata": {
  "kernelspec": {
   "display_name": "Python 3",
   "language": "python",
   "name": "python3"
  },
  "language_info": {
   "codemirror_mode": {
    "name": "ipython",
    "version": 3
   },
   "file_extension": ".py",
   "mimetype": "text/x-python",
   "name": "python",
   "nbconvert_exporter": "python",
   "pygments_lexer": "ipython3",
   "version": "3.6.7"
  }
 },
 "nbformat": 4,
 "nbformat_minor": 2
}
